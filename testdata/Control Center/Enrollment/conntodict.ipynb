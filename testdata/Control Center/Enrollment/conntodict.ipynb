{
 "cells": [
  {
   "cell_type": "code",
   "execution_count": 1,
   "id": "5bb4dec8-4f69-4538-972f-bfb9cb777adc",
   "metadata": {},
   "outputs": [],
   "source": [
    "text='''//label[contains(text(),\"Store missing attributes\")]\n",
    "//label[contains(text(),\"Store missing attributes\")]/i\n",
    "//label[contains(text(),\"Store missing attributes\")]/div/span/span[1]\n",
    "//label[contains(text(),\"Store missing attributes\")]/div/span/span[2]/i\n",
    "'''"
   ]
  },
  {
   "cell_type": "code",
   "execution_count": 7,
   "id": "5ab04dcf-f9ae-4884-a169-cec526446853",
   "metadata": {},
   "outputs": [
    {
     "name": "stdout",
     "output_type": "stream",
     "text": [
      "//label[contains(.,\"Structural Group Filter\")]\n",
      "//label[contains(.,\"Structural Group Filter\")]/i\n",
      "//label[contains(.,\"Structural Group Filter\")]/div/span/span[1]\n",
      "//label[contains(.,\"Structural Group Filter\")]/div/span/span[2]/i\n",
      "\n"
     ]
    }
   ],
   "source": [
    "print text.replace(\"Store missing attributes\",\"Structural Group Filter\").replace(\"text()\",\".\")"
   ]
  },
  {
   "cell_type": "markdown",
   "id": "e3fc7d84-56f3-4c5a-95d8-9243d266fbe5",
   "metadata": {},
   "source": [
    "Contents\n",
    "- [Investigating definition file read](#defread)"
   ]
  },
  {
   "cell_type": "code",
   "execution_count": 8,
   "id": "1f018e2b-9102-4ed6-98b4-3b615b4b2594",
   "metadata": {
    "scrolled": true,
    "tags": []
   },
   "outputs": [],
   "source": [
    "import re"
   ]
  },
  {
   "cell_type": "code",
   "execution_count": 15,
   "id": "bb1caaf9-8299-463f-8c8c-487945d96180",
   "metadata": {},
   "outputs": [],
   "source": [
    "def read_conn_file(filepath):\n",
    "    var_dict={}\n",
    "    with open(filepath,'r') as conn:\n",
    "        lines = conn.read()\n",
    "    roots=re.findall(r'\\nroots[\\s\\S]*?(?=\\#)',lines)\n",
    "    removed_roots=re.sub(r'\\nroots[\\s\\S]*?(?=\\#)','',lines)\n",
    "    reduced_lines=re.sub(r\"(#.*\\n)\",\"\",removed_roots)\n",
    "    for tup in re.findall(r\"\\n(\\S*)[ |\\t]*(.*)\",reduced_lines):\n",
    "        var_dict[tup[0].strip()]=tup[1].strip()\n",
    "    if roots:\n",
    "        var_dict['roots']=[x.strip() for x in roots[0].replace('\\nroots','').replace('\\n\\n','').split('\\\\n\\\\\\n')]\n",
    "    return {k:v for k,v in var_dict.items() if v!=''}"
   ]
  },
  {
   "cell_type": "code",
   "execution_count": 16,
   "id": "607eeac7-b356-4e72-98ea-779a182e1fd9",
   "metadata": {},
   "outputs": [
    {
     "data": {
      "text/plain": [
       "{'EnableADDirChgReplication': 'false',\n",
       " 'IsPagingEnabled': 'true',\n",
       " 'ScheduledSyncInterv': '0',\n",
       " 'ScheduledSyncTime': 'Sep 27, 2006 8:14 AM',\n",
       " 'filter': 'objectclass=*',\n",
       " 'login': 'john.tyler@tdomain2.qalab01.nextlabs.com',\n",
       " 'password': '123blue!',\n",
       " 'port': '389',\n",
       " 'roots': ['ou=branch1,dc=test,dc=bluejungle,dc=com',\n",
       "  'ou=branch2,dc=test,dc=bluejungle,dc=com',\n",
       "  'ou=branch3,dc=test,dc=bluejungle,dc=com'],\n",
       " 'server': 'w2k12ad2.tdomain2.qalab01.nextlabs.com'}"
      ]
     },
     "metadata": {},
     "output_type": "display_data"
    }
   ],
   "source": [
    "conn_dict=read_conn_file('ad.tdomain2 - Copy.conn')\n",
    "display(conn_dict)"
   ]
  },
  {
   "cell_type": "code",
   "execution_count": 22,
   "id": "ff366c9d-a0a8-43a3-bba3-65503d1198a8",
   "metadata": {},
   "outputs": [
    {
     "data": {
      "text/plain": [
       "'Sep 27, 2006'"
      ]
     },
     "execution_count": 22,
     "metadata": {},
     "output_type": "execute_result"
    }
   ],
   "source": [
    "' '.join(conn_dict['ScheduledSyncTime'].split()[:3])"
   ]
  },
  {
   "cell_type": "code",
   "execution_count": 27,
   "id": "cb0485c2-5106-4695-a514-51208285cbbd",
   "metadata": {},
   "outputs": [
    {
     "data": {
      "text/plain": [
       "'AM'"
      ]
     },
     "execution_count": 27,
     "metadata": {},
     "output_type": "execute_result"
    }
   ],
   "source": [
    "conn_dict['ScheduledSyncTime'].split()[4]"
   ]
  },
  {
   "cell_type": "markdown",
   "id": "67679b2a-9010-438b-a884-3407197d3380",
   "metadata": {},
   "source": [
    "---"
   ]
  },
  {
   "cell_type": "markdown",
   "id": "b20d8696-de28-4333-a64b-bb543d3b3f16",
   "metadata": {},
   "source": [
    "### Investigations"
   ]
  },
  {
   "cell_type": "markdown",
   "id": "e372f68a-229e-4433-b102-352741046af6",
   "metadata": {},
   "source": [
    "- pull variables from pre-defined list"
   ]
  },
  {
   "cell_type": "markdown",
   "id": "e4d313ea-9d32-47d0-98f3-90cae943f374",
   "metadata": {},
   "source": [
    "with open('ad.tdomain2 - Copy.conn','r') as conn:\n",
    "    lines = conn.read()\n",
    "\n",
    "print lines"
   ]
  },
  {
   "cell_type": "markdown",
   "id": "4079b5db-bfa1-4a5d-89c3-25199aa543c9",
   "metadata": {
    "jupyter": {
     "outputs_hidden": true
    },
    "tags": []
   },
   "source": [
    "lines"
   ]
  },
  {
   "cell_type": "markdown",
   "id": "6b58fe45-46eb-4c2d-aa7b-496dc0761bc8",
   "metadata": {},
   "source": [
    "server_grp = re.search('server(.*)\\n',lines)\n",
    "server = server_grp.group(1).strip()\n",
    "print server"
   ]
  },
  {
   "cell_type": "markdown",
   "id": "463c9ad6-7c2a-4ab1-8dc6-c3641c0c70d4",
   "metadata": {},
   "source": [
    "port_grp = re.search('port(.*)\\n',lines)\n",
    "port = port_grp.group(1).strip()\n",
    "print port"
   ]
  },
  {
   "cell_type": "markdown",
   "id": "2f448d41-033b-40be-b4f2-2cff59bd9fe9",
   "metadata": {},
   "source": [
    "login_grp = re.search('login(.*)\\n',lines)\n",
    "login = login_grp.group(1).strip()\n",
    "print login"
   ]
  },
  {
   "cell_type": "markdown",
   "id": "6952bcc5-9060-423e-ae8e-086c0e871540",
   "metadata": {},
   "source": [
    "re.search('\\nroots((.|\\n)*)# The LDAP',lines).group(1).replace('\\n','').strip()"
   ]
  },
  {
   "cell_type": "markdown",
   "id": "05ce2699-140d-4034-a84f-00cd8c3287c0",
   "metadata": {},
   "source": [
    "def pull_vars(text,list_of_vars,roots='yes'):\n",
    "    var_dict={}\n",
    "    for var in list_of_vars:\n",
    "        try:\n",
    "            grp = re.search(str(var)+'  (.*)\\n',text)\n",
    "            search = grp.group(1).strip()\n",
    "            var_dict[var]=search\n",
    "        except:\n",
    "            pass\n",
    "    if roots=='yes':\n",
    "        var_dict['roots']=re.search('\\nroots((.|\\n)*)# The LDAP',text).group(1).replace('\\n','').strip()\n",
    "    return var_dict"
   ]
  },
  {
   "cell_type": "markdown",
   "id": "7e71a2b7-21bc-42bc-b523-cb7549e4e079",
   "metadata": {},
   "source": [
    "variables = ['server','port','login','password','filter','IsPagingEnabled','EnableADDirChgReplication','ScheduledSyncTime','ScheduledSyncInterv']\n",
    "print variables"
   ]
  },
  {
   "cell_type": "markdown",
   "id": "211cac1f-096a-471a-8f07-189272991376",
   "metadata": {},
   "source": [
    "var_dict = pull_vars(lines,variables,roots='no')"
   ]
  },
  {
   "cell_type": "markdown",
   "id": "3c4dca2d-d3ea-47f6-b42e-b83ebb20a292",
   "metadata": {},
   "source": [
    "for key in var_dict.keys():\n",
    "    print 'key:{0}, value:{1}'.format(str(key),str(var_dict[key]))"
   ]
  },
  {
   "cell_type": "markdown",
   "id": "3f6d2a0c-ed2a-4aa1-b4f3-b7031265df7d",
   "metadata": {},
   "source": [
    "- pull variables based on formatting"
   ]
  },
  {
   "cell_type": "markdown",
   "id": "33dd7286-5e50-4388-b4b5-f5a89371318c",
   "metadata": {
    "tags": []
   },
   "source": [
    "lines"
   ]
  },
  {
   "cell_type": "markdown",
   "id": "ca36e28a-7169-4b12-8f3b-8255f96c6407",
   "metadata": {},
   "source": [
    "roots=re.findall(r'\\nroots[\\s\\S]*?(?=\\#)',lines)\n",
    "print(roots[0])"
   ]
  },
  {
   "cell_type": "markdown",
   "id": "fab6cba9-94fc-4ffe-a940-99fac0d94b71",
   "metadata": {
    "tags": []
   },
   "source": [
    "removed_roots=re.sub(r'\\nroots[\\s\\S]*?(?=\\#)','',lines)\n",
    "print removed_roots"
   ]
  },
  {
   "cell_type": "markdown",
   "id": "c723f666-19d6-4b40-958e-f10209885352",
   "metadata": {
    "tags": []
   },
   "source": [
    "reduced_lines=re.sub(r\"(#.*\\n)\",\"\",removed_roots)\n",
    "print reduced_lines"
   ]
  },
  {
   "cell_type": "markdown",
   "id": "e7105cfb-0c0e-40fc-8325-8d294fb5db1f",
   "metadata": {},
   "source": [
    "re.findall(r\"\\n(\\S*)  (.*)\\n\",reduced_lines)"
   ]
  },
  {
   "cell_type": "markdown",
   "id": "6e7a214f-2f07-42f4-a569-6491b27d7282",
   "metadata": {},
   "source": [
    "var_dict={}\n",
    "for tup in re.findall(r\"\\n(\\S*)  (.*)\\n\",reduced_lines):\n",
    "    var_dict[tup[0].strip()]=tup[1].strip()\n",
    "var_dict"
   ]
  },
  {
   "cell_type": "markdown",
   "id": "236f538e-59fd-40eb-87d3-e4922e7be1fd",
   "metadata": {},
   "source": [
    "var_dict"
   ]
  },
  {
   "cell_type": "markdown",
   "id": "986fe472-4b02-4996-806b-3e68aba2452d",
   "metadata": {},
   "source": [
    "if roots[0]:\n",
    "    var_dict['roots']=root_list=[x.strip() for x in roots[0].replace('\\nroots','').replace('\\n\\n','').split('\\\\n\\\\\\n')]"
   ]
  },
  {
   "cell_type": "markdown",
   "id": "e79cb877-b1e9-4e23-b741-17024bcb0ef7",
   "metadata": {},
   "source": [
    "---\n",
    "### Investigating custom library for checkbox interaction"
   ]
  },
  {
   "cell_type": "markdown",
   "id": "66ca5b14-aee7-4414-a926-8003ed4851d5",
   "metadata": {},
   "source": [
    "from robot.libraries.BuiltIn import BuiltIn"
   ]
  },
  {
   "cell_type": "markdown",
   "id": "9840798b-3adb-4783-8d95-52a242a7b77c",
   "metadata": {},
   "source": [
    "def checkbox_interaction(xpath,value):\n",
    "    se2lib = BuiltIn().get_library_instance('Selenium2Library')\n",
    "    wd = se2lib._current_browser()\n",
    "    locator = \"document.evaluate('{0}',document,null,XPathResult.FIRST_ORDERED_NODE_TYPE,null).singleNodeValue\".format(xpath)\n",
    "    check = \".checked = {0}\".format(value)\n",
    "    change = \".dispatchEvent(new Event('change'))\"\n",
    "    wd.execute_javascript(locator+check)\n",
    "    wd.execute_javascript(locator+change)\n",
    "    return"
   ]
  },
  {
   "cell_type": "markdown",
   "id": "b27a3096-0aab-49da-8999-95a8e460fd1b",
   "metadata": {},
   "source": [
    "from Selenium2Library import Selenium2Library as S2L"
   ]
  },
  {
   "cell_type": "markdown",
   "id": "028873a4-e54e-4a38-8b34-0384d2727d30",
   "metadata": {},
   "source": [
    "dir(S2L)"
   ]
  },
  {
   "cell_type": "markdown",
   "id": "6cb842ac-dae5-469d-8928-7a0c4c15d987",
   "metadata": {},
   "source": [
    "xpath = 'testpath'\n",
    "value = 'true'\n",
    "locator = \"document.evaluate('{0}',document,null,XPathResult.FIRST_ORDERED_NODE_TYPE,null).singleNodeValue\".format(xpath)\n",
    "check = \".checked = {0}\".format(value)\n",
    "change = \".dispatchEvent(new Event('change'))\"\n",
    "\n",
    "print locator+check\n",
    "print locator+change"
   ]
  },
  {
   "cell_type": "markdown",
   "id": "80cb8aee-b7fd-4db7-b2c6-58996b77d12a",
   "metadata": {
    "tags": []
   },
   "source": [
    "---\n",
    "### <a id=defread>Investigating definition file read</a>\n",
    "- text to sections"
   ]
  },
  {
   "cell_type": "code",
   "execution_count": 11,
   "id": "825c7756-dfbb-4a69-8a4c-64e1ab6421a3",
   "metadata": {},
   "outputs": [],
   "source": [
    "lines='''# a default SAP enrollment definition file \n",
    "\n",
    "enroll.users                        true\n",
    "enroll.contacts               \t    false\n",
    "enroll.computers                    false\n",
    "enroll.groups\t\t\t\t\t\ttrue\n",
    "enroll.other              true\n",
    "\n",
    "#\n",
    "# Required attributes\n",
    "#\n",
    "entry.attributefor.staticid         objectGUID\n",
    "\n",
    "computer.requirements               objectClass=Computer\n",
    "user.requirements                   objectClass=User\n",
    "contact.requirements                objectClass=Contact\n",
    "other.requirements                  objectClass=Cow\n",
    "\n",
    "group.requirements                  objectclass=Group\n",
    "group.attributefor.enumeration      member\n",
    "\n",
    "structure.requirements\t\t\t\t\n",
    "\n",
    "#\n",
    "# Attribute mappings\n",
    "\n",
    "#user.string.accountName            Account Name\n",
    "#user.string.company                Company \n",
    "#user.string.CountryCode            CountryCode\n",
    "#user.string.countryName\t           Country Name\n",
    "#user.string.department             Department\n",
    "user.string.displayName            Full Name  \n",
    "user.string.firstName              First Name\n",
    "#user.string.isoCountryCode         ISO Country Code \n",
    "user.string.lastName               Last Name\n",
    "user.string.principalName\t   User Principal Name\n",
    "user.string.unixId                 SAPUserId\n",
    "\n",
    "\n",
    "\n",
    "ldif.filename                       C:/Program Files/Nextlabs/PolicyServer/tools/enrollment/sap_nextlabs_com.ldif\n",
    "'''"
   ]
  },
  {
   "cell_type": "code",
   "execution_count": 12,
   "id": "816c882d-f74c-4f7a-a1d2-8bdb15909c1c",
   "metadata": {},
   "outputs": [
    {
     "data": {
      "text/plain": [
       "{'computer.requirements': 'objectClass=Computer',\n",
       " 'contact.requirements': 'objectClass=Contact',\n",
       " 'enroll.computers': 'false',\n",
       " 'enroll.contacts': 'false',\n",
       " 'enroll.groups': 'true',\n",
       " 'enroll.other': 'true',\n",
       " 'enroll.users': 'true',\n",
       " 'entry.attributefor.staticid': 'objectGUID',\n",
       " 'group.attributefor.enumeration': 'member',\n",
       " 'group.requirements': 'objectclass=Group',\n",
       " 'ldif.filename': 'C:/Program Files/Nextlabs/PolicyServer/tools/enrollment/sap_nextlabs_com.ldif',\n",
       " 'other.requirements': 'objectClass=Cow',\n",
       " 'user.requirements': 'objectClass=User',\n",
       " 'user.string.displayName': 'Full Name',\n",
       " 'user.string.firstName': 'First Name',\n",
       " 'user.string.lastName': 'Last Name',\n",
       " 'user.string.principalName': 'User Principal Name',\n",
       " 'user.string.unixId': 'SAPUserId'}"
      ]
     },
     "execution_count": 12,
     "metadata": {},
     "output_type": "execute_result"
    }
   ],
   "source": [
    "var_dict={}\n",
    "reduced_lines=re.sub(r\"(#.*\\n)\",\"\",lines)\n",
    "for tup in re.findall(r\"\\n([\\w|\\.]*)[ |\\t]*([\\S| |\\t]*)\",reduced_lines):\n",
    "    var_dict[tup[0].strip()]=tup[1].strip()\n",
    "def_dict= {k:v for k,v in var_dict.items() if v!=''}\n",
    "def_dict"
   ]
  },
  {
   "cell_type": "code",
   "execution_count": 44,
   "id": "9e2101be-d3c9-4532-8c83-8a26cea13e9d",
   "metadata": {},
   "outputs": [],
   "source": [
    "def def_to_dict(filepath):\n",
    "    var_dict={}\n",
    "    with open(filepath,'r') as conn:\n",
    "        lines = conn.read()\n",
    "    reduced_lines=re.sub(r\"(#.*\\n)\",\"\",lines)\n",
    "    for tup in re.findall(r\"\\n([\\w|\\.]*)[ |\\t]*([\\S| |\\t]*)\",reduced_lines):\n",
    "        var_dict[tup[0].strip()]=tup[1].strip()\n",
    "    return {k:v for k,v in var_dict.items() if v!=''}"
   ]
  },
  {
   "cell_type": "code",
   "execution_count": 51,
   "id": "63e3a3fb-7b71-4f41-8116-925845d9912d",
   "metadata": {},
   "outputs": [
    {
     "data": {
      "text/plain": [
       "{'computer.requirements': 'objectClass=Computer',\n",
       " 'contact.requirements': 'objectClass=Contact',\n",
       " 'delete.inactive.group.members': 'false',\n",
       " 'enroll.computers': 'false',\n",
       " 'enroll.contacts': 'false',\n",
       " 'enroll.groups': 'true',\n",
       " 'enroll.users': 'true',\n",
       " 'entry.attributefor.staticid': 'objectGUID',\n",
       " 'group.attributefor.enumeration': 'member',\n",
       " 'group.requirements': 'objectclass=Group',\n",
       " 'ldif.filename': 'C:/Program Files/Nextlabs/PolicyServer/tools/enrollment/sap_nextlabs_com.ldif',\n",
       " 'store.missing.attributes': 'true',\n",
       " 'user.requirements': 'objectClass=User',\n",
       " 'user.string.displayName': 'Full Name',\n",
       " 'user.string.firstName': 'First Name',\n",
       " 'user.string.lastName': 'Last Name',\n",
       " 'user.string.principalName': 'User Principal Name',\n",
       " 'user.string.unixId': 'SAPUserId'}"
      ]
     },
     "execution_count": 51,
     "metadata": {},
     "output_type": "execute_result"
    }
   ],
   "source": [
    "def_dict=def_to_dict('sap_nextlabs_com - Copy.def')\n",
    "def_dict"
   ]
  },
  {
   "cell_type": "code",
   "execution_count": 8,
   "id": "4e1a7021-8c49-4467-9856-54dd4e9f028c",
   "metadata": {},
   "outputs": [],
   "source": [
    "def conn_to_sub(pattern,main_dict,sub_dict=None):\n",
    "    del_dict=main_dict.copy()\n",
    "    if sub_dict==None:\n",
    "        sub_dict2={}\n",
    "    else:\n",
    "        sub_dict2=sub_dict.copy()\n",
    "    for key in main_dict:\n",
    "        if re.match(pattern,key)!=None:\n",
    "            sub_dict2[key]=main_dict[key]\n",
    "            del_dict.pop(key)\n",
    "    return sub_dict2, del_dict"
   ]
  },
  {
   "cell_type": "code",
   "execution_count": 19,
   "id": "278881ea-0ac2-4114-9c36-f20a6c99244d",
   "metadata": {},
   "outputs": [],
   "source": [
    "to_enroll,def_dict2=conn_to_sub(r'enroll.[\\w]*',def_dict)\n",
    "requirements,def_dict2=conn_to_sub(r'entry.attributefor\\.[\\w]*',def_dict2)\n",
    "requirements,def_dict2=conn_to_sub(r'store.missing.attributes',def_dict2,requirements)\n",
    "requirements,def_dict2=conn_to_sub(r'delete.inactive.group.members',def_dict2,requirements)\n",
    "if 'enroll.other' in to_enroll.keys():\n",
    "    to_enroll['enroll.other entities']=to_enroll.pop('enroll.other')\n",
    "    if 'other.requirements' in def_dict2.keys():\n",
    "        requirements['other entitie.requirements']=def_dict2.pop('other.requirements')\n",
    "for key in list(to_enroll.keys()):\n",
    "    if to_enroll[key]=='false':\n",
    "        to_enroll.pop(key)\n",
    "mappings={}\n",
    "for key in to_enroll.keys():\n",
    "    entity = key.split('.')[1]\n",
    "    requirements,def_dict2=conn_to_sub(entity[:-1]+r'\\.requirements',def_dict2,requirements)\n",
    "    requirements,def_dict2=conn_to_sub(entity[:-1]+r'\\.attributefor\\.[\\w]*',def_dict2,requirements)\n",
    "    mappings[entity],def_dict2=conn_to_sub(entity[:-1]+r'\\.[\\w]*\\.[\\w]*',def_dict2)\n",
    "filename,def_dict2=conn_to_sub(r'ldif.filename',def_dict2)\n",
    "if 'groups' in mappings.keys():\n",
    "    if 'structure.requirements' in def_dict2.keys():\n",
    "        if def_dict2['structure.requirements']!='':\n",
    "            requirements['structure.requirements']=def_dict2['structure.requirements']"
   ]
  },
  {
   "cell_type": "code",
   "execution_count": 20,
   "id": "55fa6b9d-4ff7-4631-b9b7-439b922685a7",
   "metadata": {},
   "outputs": [
    {
     "data": {
      "text/plain": [
       "{'entry.attributefor.staticid': 'objectGUID',\n",
       " 'group.attributefor.enumeration': 'member',\n",
       " 'group.requirements': 'objectclass=Group',\n",
       " 'other entitie.requirements': 'objectClass=Cow',\n",
       " 'user.requirements': 'objectClass=User'}"
      ]
     },
     "metadata": {},
     "output_type": "display_data"
    },
    {
     "data": {
      "text/plain": [
       "{'enroll.groups': 'true',\n",
       " 'enroll.other entities': 'true',\n",
       " 'enroll.users': 'true'}"
      ]
     },
     "metadata": {},
     "output_type": "display_data"
    },
    {
     "data": {
      "text/plain": [
       "{'groups': {},\n",
       " 'other entities': {},\n",
       " 'users': {'user.string.displayName': 'Full Name',\n",
       "  'user.string.firstName': 'First Name',\n",
       "  'user.string.lastName': 'Last Name',\n",
       "  'user.string.principalName': 'User Principal Name',\n",
       "  'user.string.unixId': 'SAPUserId'}}"
      ]
     },
     "metadata": {},
     "output_type": "display_data"
    },
    {
     "data": {
      "text/plain": [
       "{'ldif.filename': 'C:/Program Files/Nextlabs/PolicyServer/tools/enrollment/sap_nextlabs_com.ldif'}"
      ]
     },
     "metadata": {},
     "output_type": "display_data"
    },
    {
     "data": {
      "text/plain": [
       "{'computer.requirements': 'objectClass=Computer',\n",
       " 'contact.requirements': 'objectClass=Contact'}"
      ]
     },
     "metadata": {},
     "output_type": "display_data"
    }
   ],
   "source": [
    "display(requirements)\n",
    "display (to_enroll)\n",
    "display (mappings)\n",
    "display (filename)\n",
    "display(def_dict2)"
   ]
  },
  {
   "cell_type": "code",
   "execution_count": 34,
   "id": "b0127002-d835-4d0c-82c8-0a20c9a9309c",
   "metadata": {},
   "outputs": [],
   "source": [
    "def read_def_file(filepath):\n",
    "    to_enroll,def_dict2=conn_to_sub(r'enroll.[\\w]*',def_to_dict(filepath))\n",
    "    requirements,def_dict2=conn_to_sub(r'entry.attributefor\\.[\\w]*',def_dict2)\n",
    "    for key in list(to_enroll.keys()):\n",
    "        if to_enroll[key]=='false':\n",
    "            to_enroll.pop(key)\n",
    "    for key in to_enroll.keys():\n",
    "        entity = key.split('.')[1]\n",
    "        mappings={}\n",
    "        requirements,def_dict2=conn_to_sub(entity[:-1]+r'\\.requirements',def_dict2,requirements)\n",
    "        requirements,def_dict2=conn_to_sub(entity[:-1]+r'\\.attributefor\\.[\\w]*',def_dict2,requirements)\n",
    "        mappings[entity],def_dict2=conn_to_sub(entity[:-1]+r'\\.[\\w]*\\.[\\w]*',def_dict2)\n",
    "        filename,def_dict2=conn_to_sub(r'ldif.filename',def_dict2)\n",
    "    return to_enroll, requirements, mappings, filename"
   ]
  },
  {
   "cell_type": "code",
   "execution_count": 35,
   "id": "d0fe8298-b294-44ca-a170-b4108a383091",
   "metadata": {},
   "outputs": [
    {
     "data": {
      "text/plain": [
       "({'enroll.users': 'true'},\n",
       " {'entry.attributefor.staticid': 'objectGUID',\n",
       "  'user.requirements': 'objectClass=User'},\n",
       " {'users': {'user.string.displayName': 'Full Name',\n",
       "   'user.string.firstName': 'First Name',\n",
       "   'user.string.lastName': 'Last Name',\n",
       "   'user.string.principalName': 'User Principal Name',\n",
       "   'user.string.unixId': 'SAPUserId'}},\n",
       " {'ldif.filename': 'C:/Program Files/Nextlabs/PolicyServer/tools/enrollment/sap_nextlabs_com.ldif'})"
      ]
     },
     "execution_count": 35,
     "metadata": {},
     "output_type": "execute_result"
    }
   ],
   "source": [
    "read_def_file('sap_nextlabs_com.def')"
   ]
  },
  {
   "cell_type": "code",
   "execution_count": 11,
   "id": "92f17bc7-25ca-48cb-86bf-d90e6fdf712d",
   "metadata": {},
   "outputs": [
    {
     "name": "stdout",
     "output_type": "stream",
     "text": [
      "{\n",
      "  \"users\": {\n",
      "    \"user.string.lastName\": \"Last Name\", \n",
      "    \"user.string.unixId\": \"SAPUserId\", \n",
      "    \"user.string.displayName\": \"Full Name\", \n",
      "    \"user.string.firstName\": \"First Name\", \n",
      "    \"user.string.principalName\": \"User Principal Name\"\n",
      "  }\n",
      "}\n"
     ]
    }
   ],
   "source": [
    "import json\n",
    "\n",
    "print (json.dumps(mappings, indent=2))"
   ]
  },
  {
   "cell_type": "markdown",
   "id": "c5d246fa-3c84-425a-b32e-dd131b578cb0",
   "metadata": {},
   "source": [
    "---\n",
    "- Sections to dicts"
   ]
  },
  {
   "cell_type": "code",
   "execution_count": 14,
   "id": "9e9c4288-b578-4c9c-8836-b9096504fa20",
   "metadata": {},
   "outputs": [],
   "source": [
    "entities_to_enroll_string=\"\"\"enroll.users                        true\n",
    "enroll.contacts                     true\n",
    "enroll.computers                    false\n",
    "enroll.applications                 true\n",
    "enroll.groups   \t            true\"\"\""
   ]
  },
  {
   "cell_type": "code",
   "execution_count": 32,
   "id": "3d18fb52-7d5d-4c6a-802c-28fa78fbf5b0",
   "metadata": {},
   "outputs": [
    {
     "name": "stdout",
     "output_type": "stream",
     "text": [
      "user.requirements                   (userPrincipalName=*)\n",
      "computer.requirements               (dnsHostName=*)\n",
      "contact.requirements                (objectClass=contact)\n",
      "group.requirements                  (objectClass=Group)\n"
     ]
    }
   ],
   "source": [
    "entry_filters_string='''user.requirements                   (userPrincipalName=*)\n",
    "computer.requirements               (dnsHostName=*)\n",
    "contact.requirements                (objectClass=contact)\n",
    "group.requirements                  (objectClass=Group)'''\n",
    "print entry_filters_string"
   ]
  },
  {
   "cell_type": "code",
   "execution_count": 48,
   "id": "606b6bc2-4e38-49a6-a02c-f8807a236321",
   "metadata": {},
   "outputs": [],
   "source": [
    "def split_list_of_lists(text):\n",
    "    return [x.split() for x in text.split('\\n')]"
   ]
  },
  {
   "cell_type": "code",
   "execution_count": 54,
   "id": "5a5c4cab-4c26-4b11-81a5-931c9f6c0953",
   "metadata": {},
   "outputs": [
    {
     "data": {
      "text/plain": [
       "{'applications': 'true',\n",
       " 'computers': 'false',\n",
       " 'contacts': 'true',\n",
       " 'groups': 'true',\n",
       " 'users': 'true'}"
      ]
     },
     "execution_count": 54,
     "metadata": {},
     "output_type": "execute_result"
    }
   ],
   "source": [
    "entities_to_enroll={}\n",
    "for x in split_list_of_lists(entities_to_enroll_string):\n",
    "    entities_to_enroll[x[0].split('.')[1]]=x[1]\n",
    "entities_to_enroll"
   ]
  },
  {
   "cell_type": "code",
   "execution_count": 56,
   "id": "84b19590-298d-477d-96bb-e4378c1dbbcb",
   "metadata": {},
   "outputs": [
    {
     "data": {
      "text/plain": [
       "{'computer': 'dnsHostName=*',\n",
       " 'contact': 'objectClass=contact',\n",
       " 'group': 'objectClass=Group',\n",
       " 'user': 'userPrincipalName=*'}"
      ]
     },
     "execution_count": 56,
     "metadata": {},
     "output_type": "execute_result"
    }
   ],
   "source": [
    "entry_filters={}\n",
    "for x in split_list_of_lists(entry_filters_string):\n",
    "    entry_filters[x[0].split('.')[0]]=x[1].strip('\\(\\)')    \n",
    "entry_filters"
   ]
  },
  {
   "cell_type": "code",
   "execution_count": 75,
   "id": "0a26d094-7b25-4fb7-8d3c-e5d9f793f5f0",
   "metadata": {},
   "outputs": [
    {
     "name": "stdout",
     "output_type": "stream",
     "text": [
      "computer.string.dnsName                 dnsHostName\n",
      "user.displayName    name\n",
      "user.principalName    userPrincipalName\n",
      "computer.cs-string.windowsSid           objectSid\n"
     ]
    }
   ],
   "source": [
    "attributes_string='''computer.string.dnsName                 dnsHostName\n",
    "user.displayName    name\n",
    "user.principalName    userPrincipalName\n",
    "computer.cs-string.windowsSid           objectSid'''\n",
    "print attributes_string"
   ]
  },
  {
   "cell_type": "code",
   "execution_count": 76,
   "id": "816b0141-2a03-4c22-ad74-12d58ae78ee6",
   "metadata": {},
   "outputs": [
    {
     "data": {
      "text/plain": [
       "{'computer': {'dnsName': 'dnsHostName', 'windowsSid': 'objectSid'},\n",
       " 'user': {'displayName': 'name', 'principalName': 'userPrincipalName'}}"
      ]
     },
     "execution_count": 76,
     "metadata": {},
     "output_type": "execute_result"
    }
   ],
   "source": [
    "attributes={}\n",
    "for x in split_list_of_lists(attributes_string):\n",
    "    entity=x[0].split('.')[0]\n",
    "    cc_att=x[0].split('.')[-1]\n",
    "    dir_att=x[1]\n",
    "    if entity not in attributes:\n",
    "        attributes[entity]={}\n",
    "    if cc_att not in attributes[entity]:\n",
    "        attributes[entity][cc_att]={}\n",
    "    attributes[entity][cc_att]=dir_att\n",
    "attributes    "
   ]
  },
  {
   "cell_type": "code",
   "execution_count": 80,
   "id": "0e0bfd6d-6049-46e0-a42e-b3cd8df17281",
   "metadata": {},
   "outputs": [
    {
     "name": "stdout",
     "output_type": "stream",
     "text": [
      "{\n",
      "  \"computer\": {\n",
      "    \"dnsName\": \"dnsHostName\", \n",
      "    \"windowsSid\": \"objectSid\"\n",
      "  }, \n",
      "  \"user\": {\n",
      "    \"displayName\": \"name\", \n",
      "    \"principalName\": \"userPrincipalName\"\n",
      "  }\n",
      "}\n"
     ]
    }
   ],
   "source": [
    "import json\n",
    "\n",
    "print (json.dumps(attributes, indent=2))"
   ]
  }
 ],
 "metadata": {
  "kernelspec": {
   "display_name": "py2",
   "language": "python",
   "name": "py2"
  },
  "language_info": {
   "codemirror_mode": {
    "name": "ipython",
    "version": 2
   },
   "file_extension": ".py",
   "mimetype": "text/x-python",
   "name": "python",
   "nbconvert_exporter": "python",
   "pygments_lexer": "ipython2",
   "version": "2.7.15"
  }
 },
 "nbformat": 4,
 "nbformat_minor": 5
}
