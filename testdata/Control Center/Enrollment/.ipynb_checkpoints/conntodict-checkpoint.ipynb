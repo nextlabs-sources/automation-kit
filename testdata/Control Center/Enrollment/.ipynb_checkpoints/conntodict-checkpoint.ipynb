{
 "cells": [
  {
   "cell_type": "code",
   "execution_count": 1,
   "id": "1f018e2b-9102-4ed6-98b4-3b615b4b2594",
   "metadata": {
    "scrolled": true,
    "tags": []
   },
   "outputs": [],
   "source": [
    "import re"
   ]
  },
  {
   "cell_type": "code",
   "execution_count": 79,
   "id": "6865ba30-0e95-4cb8-a2be-494fc08a0cda",
   "metadata": {},
   "outputs": [],
   "source": [
    "def read_conn_file(filepath):\n",
    "    var_dict={}\n",
    "    with open(filepath,'r') as conn:\n",
    "        lines = conn.read()\n",
    "    roots=re.findall(r'\\nroots[\\s\\S]*?(?=\\#)',lines)\n",
    "    removed_roots=re.sub(r'\\nroots[\\s\\S]*?(?=\\#)','',lines)\n",
    "    reduced_lines=re.sub(r\"(#.*\\n)\",\"\",removed_roots)\n",
    "    for tup in re.findall(r\"\\n(\\S*)  (.*)\",reduced_lines):\n",
    "        var_dict[tup[0].strip()]=tup[1].strip()\n",
    "    if roots:\n",
    "        var_dict['roots']=root_list=[x.strip() for x in roots[0].replace('\\nroots','').replace('\\n\\n','').split('\\\\n\\\\\\n')]\n",
    "    return var_dict"
   ]
  },
  {
   "cell_type": "markdown",
   "id": "67679b2a-9010-438b-a884-3407197d3380",
   "metadata": {},
   "source": [
    "---"
   ]
  },
  {
   "cell_type": "markdown",
   "id": "b20d8696-de28-4333-a64b-bb543d3b3f16",
   "metadata": {},
   "source": [
    "### Investigations"
   ]
  },
  {
   "cell_type": "markdown",
   "id": "e372f68a-229e-4433-b102-352741046af6",
   "metadata": {},
   "source": [
    "- pull variables from pre-defined list"
   ]
  },
  {
   "cell_type": "markdown",
   "id": "e4d313ea-9d32-47d0-98f3-90cae943f374",
   "metadata": {},
   "source": [
    "with open('ad.tdomain2 - Copy.conn','r') as conn:\n",
    "    lines = conn.read()\n",
    "\n",
    "print lines"
   ]
  },
  {
   "cell_type": "markdown",
   "id": "4079b5db-bfa1-4a5d-89c3-25199aa543c9",
   "metadata": {
    "jupyter": {
     "outputs_hidden": true
    },
    "tags": []
   },
   "source": [
    "lines"
   ]
  },
  {
   "cell_type": "markdown",
   "id": "6b58fe45-46eb-4c2d-aa7b-496dc0761bc8",
   "metadata": {},
   "source": [
    "server_grp = re.search('server(.*)\\n',lines)\n",
    "server = server_grp.group(1).strip()\n",
    "print server"
   ]
  },
  {
   "cell_type": "markdown",
   "id": "463c9ad6-7c2a-4ab1-8dc6-c3641c0c70d4",
   "metadata": {},
   "source": [
    "port_grp = re.search('port(.*)\\n',lines)\n",
    "port = port_grp.group(1).strip()\n",
    "print port"
   ]
  },
  {
   "cell_type": "markdown",
   "id": "2f448d41-033b-40be-b4f2-2cff59bd9fe9",
   "metadata": {},
   "source": [
    "login_grp = re.search('login(.*)\\n',lines)\n",
    "login = login_grp.group(1).strip()\n",
    "print login"
   ]
  },
  {
   "cell_type": "markdown",
   "id": "6952bcc5-9060-423e-ae8e-086c0e871540",
   "metadata": {},
   "source": [
    "re.search('\\nroots((.|\\n)*)# The LDAP',lines).group(1).replace('\\n','').strip()"
   ]
  },
  {
   "cell_type": "markdown",
   "id": "05ce2699-140d-4034-a84f-00cd8c3287c0",
   "metadata": {},
   "source": [
    "def pull_vars(text,list_of_vars,roots='yes'):\n",
    "    var_dict={}\n",
    "    for var in list_of_vars:\n",
    "        try:\n",
    "            grp = re.search(str(var)+'  (.*)\\n',text)\n",
    "            search = grp.group(1).strip()\n",
    "            var_dict[var]=search\n",
    "        except:\n",
    "            pass\n",
    "    if roots=='yes':\n",
    "        var_dict['roots']=re.search('\\nroots((.|\\n)*)# The LDAP',text).group(1).replace('\\n','').strip()\n",
    "    return var_dict"
   ]
  },
  {
   "cell_type": "markdown",
   "id": "7e71a2b7-21bc-42bc-b523-cb7549e4e079",
   "metadata": {},
   "source": [
    "variables = ['server','port','login','password','filter','IsPagingEnabled','EnableADDirChgReplication','ScheduledSyncTime','ScheduledSyncInterv']\n",
    "print variables"
   ]
  },
  {
   "cell_type": "markdown",
   "id": "211cac1f-096a-471a-8f07-189272991376",
   "metadata": {},
   "source": [
    "var_dict = pull_vars(lines,variables,roots='no')"
   ]
  },
  {
   "cell_type": "markdown",
   "id": "3c4dca2d-d3ea-47f6-b42e-b83ebb20a292",
   "metadata": {},
   "source": [
    "for key in var_dict.keys():\n",
    "    print 'key:{0}, value:{1}'.format(str(key),str(var_dict[key]))"
   ]
  },
  {
   "cell_type": "markdown",
   "id": "3f6d2a0c-ed2a-4aa1-b4f3-b7031265df7d",
   "metadata": {},
   "source": [
    "- pull variables based on formatting"
   ]
  },
  {
   "cell_type": "markdown",
   "id": "33dd7286-5e50-4388-b4b5-f5a89371318c",
   "metadata": {
    "tags": []
   },
   "source": [
    "lines"
   ]
  },
  {
   "cell_type": "markdown",
   "id": "ca36e28a-7169-4b12-8f3b-8255f96c6407",
   "metadata": {},
   "source": [
    "roots=re.findall(r'\\nroots[\\s\\S]*?(?=\\#)',lines)\n",
    "print(roots[0])"
   ]
  },
  {
   "cell_type": "markdown",
   "id": "fab6cba9-94fc-4ffe-a940-99fac0d94b71",
   "metadata": {
    "tags": []
   },
   "source": [
    "removed_roots=re.sub(r'\\nroots[\\s\\S]*?(?=\\#)','',lines)\n",
    "print removed_roots"
   ]
  },
  {
   "cell_type": "markdown",
   "id": "c723f666-19d6-4b40-958e-f10209885352",
   "metadata": {
    "tags": []
   },
   "source": [
    "reduced_lines=re.sub(r\"(#.*\\n)\",\"\",removed_roots)\n",
    "print reduced_lines"
   ]
  },
  {
   "cell_type": "markdown",
   "id": "e7105cfb-0c0e-40fc-8325-8d294fb5db1f",
   "metadata": {},
   "source": [
    "re.findall(r\"\\n(\\S*)  (.*)\\n\",reduced_lines)"
   ]
  },
  {
   "cell_type": "markdown",
   "id": "6e7a214f-2f07-42f4-a569-6491b27d7282",
   "metadata": {},
   "source": [
    "var_dict={}\n",
    "for tup in re.findall(r\"\\n(\\S*)  (.*)\\n\",reduced_lines):\n",
    "    var_dict[tup[0].strip()]=tup[1].strip()\n",
    "var_dict"
   ]
  },
  {
   "cell_type": "markdown",
   "id": "236f538e-59fd-40eb-87d3-e4922e7be1fd",
   "metadata": {},
   "source": [
    "var_dict"
   ]
  },
  {
   "cell_type": "markdown",
   "id": "986fe472-4b02-4996-806b-3e68aba2452d",
   "metadata": {},
   "source": [
    "if roots[0]:\n",
    "    var_dict['roots']=root_list=[x.strip() for x in roots[0].replace('\\nroots','').replace('\\n\\n','').split('\\\\n\\\\\\n')]"
   ]
  },
  {
   "cell_type": "markdown",
   "id": "e79cb877-b1e9-4e23-b741-17024bcb0ef7",
   "metadata": {},
   "source": [
    "---\n",
    "### Investigating custom library for checkbox interaction"
   ]
  },
  {
   "cell_type": "code",
   "execution_count": 89,
   "id": "026496e7-d05b-41af-80c5-e7d0f1700f3e",
   "metadata": {},
   "outputs": [],
   "source": [
    "from robot.libraries.BuiltIn import BuiltIn"
   ]
  },
  {
   "cell_type": "code",
   "execution_count": 93,
   "id": "83a1f75c-9606-44f6-b390-e643b4c5790b",
   "metadata": {},
   "outputs": [],
   "source": [
    "def checkbox_interaction(xpath,value):\n",
    "    se2lib = BuiltIn().get_library_instance('Selenium2Library')\n",
    "    wd = se2lib._current_browser()\n",
    "    locator = \"document.evaluate('{0}',document,null,XPathResult.FIRST_ORDERED_NODE_TYPE,null).singleNodeValue\".format(xpath)\n",
    "    check = \".checked = {0}\".format(value)\n",
    "    change = \".dispatchEvent(new Event('change'))\"\n",
    "    wd.execute_javascript(locator+check)\n",
    "    wd.execute_javascript(locator+change)\n",
    "    return"
   ]
  },
  {
   "cell_type": "code",
   "execution_count": 94,
   "id": "783ebf0f-637c-4093-b130-4365811e5551",
   "metadata": {},
   "outputs": [
    {
     "name": "stdout",
     "output_type": "stream",
     "text": [
      "document.evaluate('testpath',document,null,XPathResult.FIRST_ORDERED_NODE_TYPE,null).singleNodeValue.checked = true\n",
      "document.evaluate('testpath',document,null,XPathResult.FIRST_ORDERED_NODE_TYPE,null).singleNodeValue.dispatchEvent(new Event('change'))\n"
     ]
    }
   ],
   "source": [
    "xpath = 'testpath'\n",
    "value = 'true'\n",
    "locator = \"document.evaluate('{0}',document,null,XPathResult.FIRST_ORDERED_NODE_TYPE,null).singleNodeValue\".format(xpath)\n",
    "check = \".checked = {0}\".format(value)\n",
    "change = \".dispatchEvent(new Event('change'))\"\n",
    "\n",
    "print locator+check\n",
    "print locator+change"
   ]
  },
  {
   "cell_type": "code",
   "execution_count": null,
   "id": "dd0ece22-463d-4c8d-a3e6-a681d4e28675",
   "metadata": {},
   "outputs": [],
   "source": []
  }
 ],
 "metadata": {
  "kernelspec": {
   "display_name": "py2",
   "language": "python",
   "name": "py2"
  },
  "language_info": {
   "codemirror_mode": {
    "name": "ipython",
    "version": 2
   },
   "file_extension": ".py",
   "mimetype": "text/x-python",
   "name": "python",
   "nbconvert_exporter": "python",
   "pygments_lexer": "ipython2",
   "version": "2.7.15"
  }
 },
 "nbformat": 4,
 "nbformat_minor": 5
}
